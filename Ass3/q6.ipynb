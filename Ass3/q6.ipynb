{
 "cells": [
  {
   "cell_type": "code",
   "execution_count": 1,
   "metadata": {},
   "outputs": [],
   "source": [
    "import torch\n",
    "import torch.nn as nn\n",
    "import numpy as np\n",
    "from torch.optim import Adam\n",
    "from data_rnn import load_ndfa, load_brackets\n",
    "from utils import device, ARDataset, AutoRegressiveNetwork\n",
    "from random import choices"
   ]
  },
  {
   "cell_type": "code",
   "execution_count": 2,
   "metadata": {},
   "outputs": [],
   "source": [
    "x_train, (i2w, w2i) = load_ndfa(n=150_000)"
   ]
  },
  {
   "cell_type": "code",
   "execution_count": 3,
   "metadata": {},
   "outputs": [],
   "source": [
    "model = AutoRegressiveNetwork(w2i).to(device)\n",
    "optimizer = Adam([p for p in model.parameters() if p.requires_grad], lr=3e-4, weight_decay=1e-4)\n",
    "dl = ARDataset(x_train, w2i, bs=8, maxsize=200)\n",
    "criterion = nn.CrossEntropyLoss()"
   ]
  },
  {
   "cell_type": "code",
   "execution_count": 4,
   "metadata": {},
   "outputs": [
    {
     "name": "stdout",
     "output_type": "stream",
     "text": [
      "Epoch 0, Train Loss: 0.91\n",
      "Epoch 1, Train Loss: 0.24\n",
      "Epoch 2, Train Loss: 0.20\n",
      "Epoch 3, Train Loss: 0.19\n",
      "Epoch 4, Train Loss: 0.19\n",
      "Epoch 5, Train Loss: 0.19\n",
      "Epoch 6, Train Loss: 0.19\n",
      "Epoch 7, Train Loss: 0.19\n",
      "Epoch 8, Train Loss: 0.19\n",
      "Epoch 9, Train Loss: 0.19\n"
     ]
    }
   ],
   "source": [
    "for epoch in range(10):\n",
    "    model.train()\n",
    "    dl.shuffle()\n",
    "    total_loss = 0\n",
    "    c = 0\n",
    "    for x, y in dl.dataloader():\n",
    "        x, y = x.to(device), y.to(device)\n",
    "        optimizer.zero_grad()\n",
    "        loss = criterion(model(x), y)\n",
    "        loss.backward()\n",
    "        optimizer.step()\n",
    "        total_loss += loss.item()\n",
    "        c += 1\n",
    "    print(f'Epoch {epoch}, Train Loss: {total_loss / c:.2f}')"
   ]
  },
  {
   "cell_type": "code",
   "execution_count": 5,
   "metadata": {},
   "outputs": [
    {
     "name": "stdout",
     "output_type": "stream",
     "text": [
      ".startsuvw!uvw!s.end\n",
      ".startsklm!klm!klm!s.end\n",
      ".startsuvw!uvww!uvw!uvw!uvw!s.end\n",
      ".startsklm!klm!klm!s.end\n",
      ".startsabc!abc!abc!abc!abc!abc!s.end\n",
      ".startss.end\n",
      ".startss.end\n",
      ".startsabc!abc!s.end\n",
      ".startsabc!s.end\n",
      ".startsabc!abc!abc!abc!abc!abc!abc!s.end\n"
     ]
    }
   ],
   "source": [
    "sm = nn.Softmax(dim=1)\n",
    "for _ in range(10):\n",
    "    seq = [w2i['.start'], w2i['s']]\n",
    "    while w2i['.end'] not in seq:\n",
    "        seq.append(choices(range(len(w2i)), weights=sm(model(torch.tensor([seq], dtype=torch.long, device=device)))[-1, :].detach(), k=1)[0])\n",
    "    print(''.join([i2w[i] for i in seq]))"
   ]
  },
  {
   "cell_type": "code",
   "execution_count": 6,
   "metadata": {},
   "outputs": [],
   "source": [
    "x_train, (i2w, w2i) = load_brackets(n=150_000)"
   ]
  },
  {
   "cell_type": "code",
   "execution_count": 7,
   "metadata": {},
   "outputs": [],
   "source": [
    "model = AutoRegressiveNetwork(w2i).to(device)\n",
    "optimizer = Adam([p for p in model.parameters() if p.requires_grad], lr=3e-4, weight_decay=1e-4)\n",
    "dl = ARDataset(x_train, w2i, bs=8, maxsize=200)\n",
    "criterion = nn.CrossEntropyLoss()"
   ]
  },
  {
   "cell_type": "code",
   "execution_count": 8,
   "metadata": {},
   "outputs": [
    {
     "name": "stdout",
     "output_type": "stream",
     "text": [
      "Epoch 0, Train Loss: 1.50\n",
      "Epoch 1, Train Loss: 0.99\n",
      "Epoch 2, Train Loss: 0.77\n",
      "Epoch 3, Train Loss: 0.64\n",
      "Epoch 4, Train Loss: 0.58\n",
      "Epoch 5, Train Loss: 0.54\n",
      "Epoch 6, Train Loss: 0.52\n",
      "Epoch 7, Train Loss: 0.50\n",
      "Epoch 8, Train Loss: 0.49\n",
      "Epoch 9, Train Loss: 0.48\n"
     ]
    }
   ],
   "source": [
    "for epoch in range(10):\n",
    "    model.train()\n",
    "    dl.shuffle()\n",
    "    total_loss = 0\n",
    "    c = 0\n",
    "    for x, y in dl.dataloader():\n",
    "        x, y = x.to(device), y.to(device)\n",
    "        optimizer.zero_grad()\n",
    "        loss = criterion(model(x), y)\n",
    "        loss.backward()\n",
    "        optimizer.step()\n",
    "        total_loss += loss.item()\n",
    "        c += 1\n",
    "    print(f'Epoch {epoch}, Train Loss: {total_loss / c:.2f}')"
   ]
  },
  {
   "cell_type": "code",
   "execution_count": 9,
   "metadata": {},
   "outputs": [
    {
     "name": "stdout",
     "output_type": "stream",
     "text": [
      "True : .start(()()(()(()()(()()((()))((((())(()())())))(()))()(())))()).end\n",
      "False : .start(()(()((((((((())))((()((())()))()))())()((()())(((((()((()()))))()))(())(()()(()))(())((()(()))))))))()((())))()()((()()))(()))).end\n",
      "True : .start(()).end\n",
      "False : .start(())).end\n",
      "True : .start(()()).end\n",
      "True : .start(()).end\n",
      "False : .start(()(()((()))))(.end\n",
      "True : .start(()()).end\n",
      "True : .start(()).end\n",
      "False : .start(()))).end\n"
     ]
    }
   ],
   "source": [
    "sm = nn.Softmax(dim=1)\n",
    "for _ in range(10):\n",
    "    seq = [w2i['.start'], w2i['('], w2i['('], w2i[')']]\n",
    "    while w2i['.end'] not in seq:\n",
    "        seq.append(choices(range(len(w2i)), weights=sm(model(torch.tensor([seq], dtype=torch.long, device=device)))[-1, :].detach(), k=1)[0])\n",
    "    print(sum([1 if w2i['('] == i else -1 for i in seq[1:-1]]) == 0, ':', ''.join([i2w[i] for i in seq]))"
   ]
  }
 ],
 "metadata": {
  "kernelspec": {
   "display_name": "Python 3",
   "language": "python",
   "name": "python3"
  },
  "language_info": {
   "codemirror_mode": {
    "name": "ipython",
    "version": 3
   },
   "file_extension": ".py",
   "mimetype": "text/x-python",
   "name": "python",
   "nbconvert_exporter": "python",
   "pygments_lexer": "ipython3",
   "version": "3.11.3"
  }
 },
 "nbformat": 4,
 "nbformat_minor": 2
}

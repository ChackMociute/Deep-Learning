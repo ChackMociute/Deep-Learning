{
 "cells": [
  {
   "cell_type": "code",
   "execution_count": 813,
   "metadata": {},
   "outputs": [],
   "source": [
    "import numpy as np\n",
    "from vugrad.ops import Normalize\n",
    "from vugrad.core import TensorNode, Op\n",
    "\n",
    "cntxt1, cntxt2, cntxt3 = dict(), dict(), dict()\n",
    "x = TensorNode(np.arange(20).reshape(4, -1))\n",
    "b = TensorNode(np.asarray([[0], [-0.5], [0.3], [0.7], [-0.5]]))\n",
    "c = TensorNode(np.ones((1, 4)))"
   ]
  },
  {
   "cell_type": "code",
   "execution_count": 814,
   "metadata": {},
   "outputs": [],
   "source": [
    "EPOCH = 10000\n",
    "\n",
    "current = list()\n",
    "for _ in range(EPOCH):\n",
    "    o = Normalize.do_forward(x)\n",
    "    o = o.matmul(b)\n",
    "    o = c.matmul(o)\n",
    "    o.backward()\n",
    "    x.value = x.value - x.grad\n",
    "    o.zero_grad()\n",
    "    current.append(o.value.squeeze())"
   ]
  },
  {
   "cell_type": "code",
   "execution_count": 815,
   "metadata": {},
   "outputs": [],
   "source": [
    "class Normalize1(Op):\n",
    "    @staticmethod\n",
    "    def forward(context, x):\n",
    "        sumd = x.sum(axis=1, keepdims=True)\n",
    "        context['x'], context['sumd'] = x, sumd\n",
    "        return x / sumd\n",
    "\n",
    "    @staticmethod\n",
    "    def backward(context, go):\n",
    "        x, sumd = context['x'], context['sumd']\n",
    "        return (go / sumd) - (x/(sumd * sumd)) - go.sum(axis=1, keepdims=True)\n",
    "\n",
    "cntxt1, cntxt2, cntxt3 = dict(), dict(), dict()\n",
    "x = TensorNode(np.arange(20).reshape(4, -1))\n",
    "b = TensorNode(np.asarray([[0], [-0.5], [0.3], [0.7], [-0.5]]))\n",
    "c = TensorNode(np.ones((1, 4)))"
   ]
  },
  {
   "cell_type": "code",
   "execution_count": 816,
   "metadata": {},
   "outputs": [],
   "source": [
    "my = list()\n",
    "for _ in range(EPOCH):\n",
    "    o = Normalize1.do_forward(x)\n",
    "    o = o.matmul(b)\n",
    "    o = c.matmul(o)\n",
    "    o.backward()\n",
    "    x.value = x.value - x.grad\n",
    "    o.zero_grad()\n",
    "    my.append(o.value.squeeze())"
   ]
  },
  {
   "cell_type": "code",
   "execution_count": 818,
   "metadata": {},
   "outputs": [
    {
     "data": {
      "text/plain": [
       "[<matplotlib.lines.Line2D at 0x29357cde470>]"
      ]
     },
     "execution_count": 818,
     "metadata": {},
     "output_type": "execute_result"
    },
    {
     "data": {
      "image/png": "[encoded data removed]",
      "text/plain": [
       "<Figure size 640x480 with 1 Axes>"
      ]
     },
     "metadata": {},
     "output_type": "display_data"
    }
   ],
   "source": [
    "import matplotlib.pyplot as plt\n",
    "plt.plot(current)\n",
    "plt.plot(my)"
   ]
  }
 ],
 "metadata": {
  "kernelspec": {
   "display_name": "Python 3",
   "language": "python",
   "name": "python3"
  },
  "language_info": {
   "codemirror_mode": {
    "name": "ipython",
    "version": 3
   },
   "file_extension": ".py",
   "mimetype": "text/x-python",
   "name": "python",
   "nbconvert_exporter": "python",
   "pygments_lexer": "ipython3",
   "version": "3.10.9"
  }
 },
 "nbformat": 4,
 "nbformat_minor": 2
}

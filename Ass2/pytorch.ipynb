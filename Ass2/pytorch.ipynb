{
 "cells": [
  {
   "cell_type": "code",
   "execution_count": 1,
   "metadata": {},
   "outputs": [],
   "source": [
    "import sys\n",
    "import torch\n",
    "import torch.nn as nn\n",
    "import matplotlib.pyplot as plt\n",
    "from torch.optim import SGD, Adam\n",
    "from torch.utils.data import Dataset, DataLoader\n",
    "from tqdm import tqdm\n",
    "\n",
    "sys.path.append('..')\n",
    "\n",
    "from Ass1.data import load_mnist"
   ]
  },
  {
   "cell_type": "code",
   "execution_count": 2,
   "metadata": {},
   "outputs": [],
   "source": [
    "class MNIST(Dataset):\n",
    "    def __init__(self, x, y):\n",
    "        self.train, self.label = torch.tensor(x).to('cuda')/255, torch.tensor(y).to('cuda')\n",
    "    \n",
    "    def __len__(self):\n",
    "        return len(self.train)\n",
    "\n",
    "    def __getitem__(self, index):\n",
    "        return self.train[index], self.label[index]"
   ]
  },
  {
   "cell_type": "markdown",
   "metadata": {},
   "source": [
    "## Question 11"
   ]
  },
  {
   "cell_type": "code",
   "execution_count": 3,
   "metadata": {},
   "outputs": [],
   "source": [
    "(xtrain, xlabel), (xval, yval), _ = load_mnist(final=False, flatten=True)\n",
    "train_loader = DataLoader(MNIST(xtrain, xlabel), batch_size=32, shuffle=True)\n",
    "xval, yval = torch.tensor(xval).to('cuda')/255, torch.tensor(yval).to('cuda')"
   ]
  },
  {
   "cell_type": "code",
   "execution_count": 4,
   "metadata": {},
   "outputs": [
    {
     "data": {
      "text/plain": [
       "Sequential(\n",
       "  (0): Linear(in_features=784, out_features=4096, bias=True)\n",
       "  (1): Dropout(p=0.3, inplace=False)\n",
       "  (2): ReLU()\n",
       "  (3): Linear(in_features=4096, out_features=1024, bias=True)\n",
       "  (4): Dropout(p=0.3, inplace=False)\n",
       "  (5): ReLU()\n",
       "  (6): Linear(in_features=1024, out_features=128, bias=True)\n",
       "  (7): Dropout(p=0.3, inplace=False)\n",
       "  (8): ReLU()\n",
       "  (9): Linear(in_features=128, out_features=10, bias=True)\n",
       "  (10): Dropout(p=0.3, inplace=False)\n",
       "  (11): LogSoftmax(dim=1)\n",
       ")"
      ]
     },
     "execution_count": 4,
     "metadata": {},
     "output_type": "execute_result"
    }
   ],
   "source": [
    "model = nn.Sequential(\n",
    "    nn.Linear(784, 4096),\n",
    "    nn.Dropout(p=0.3),\n",
    "    nn.ReLU(),\n",
    "    nn.Linear(4096, 1024),\n",
    "    nn.Dropout(p=0.3),\n",
    "    nn.ReLU(),\n",
    "    nn.Linear(1024, 128),\n",
    "    nn.Dropout(p=0.3),\n",
    "    nn.ReLU(),\n",
    "    nn.Linear(128, 10),\n",
    "    nn.Dropout(p=0.3),\n",
    "    nn.LogSoftmax(dim=1)\n",
    ").to('cuda')\n",
    "\n",
    "opt = SGD([p for p in model.parameters() if p.requires_grad], lr=1e-3, momentum=0.9, weight_decay=1e-4)\n",
    "\n",
    "model"
   ]
  },
  {
   "cell_type": "code",
   "execution_count": 5,
   "metadata": {},
   "outputs": [],
   "source": [
    "EPOCH = 20\n",
    "criterion = nn.NLLLoss()\n",
    "\n",
    "def evaluate(model, e=EPOCH):\n",
    "    model.eval()\n",
    "    out = model(xval).detach()\n",
    "    loss = criterion(out, yval).detach()\n",
    "    acc = float((yval == out.argmax(dim=1)).to(float).mean())\n",
    "\n",
    "    print(f\"\\n-------------EPOCH {e}-------------\")\n",
    "    print(f\"Validation accuracy: {acc:.4f}\\tLoss: {loss:.4f}\")\n",
    "\n",
    "    return {e: {'loss': loss, 'acc': acc}}\n",
    "\n",
    "def train(model):\n",
    "    model.train()\n",
    "    for x, y in tqdm(train_loader):\n",
    "        opt.zero_grad()\n",
    "        loss = criterion(model(x), y)\n",
    "        loss.backward()\n",
    "        opt.step()"
   ]
  },
  {
   "cell_type": "code",
   "execution_count": 6,
   "metadata": {},
   "outputs": [
    {
     "name": "stdout",
     "output_type": "stream",
     "text": [
      "\n",
      "-------------EPOCH 0-------------\n",
      "Validation accuracy: 0.1272\tLoss: 2.3044\n"
     ]
    },
    {
     "name": "stderr",
     "output_type": "stream",
     "text": [
      "100%|██████████| 1719/1719 [00:05<00:00, 299.65it/s]\n"
     ]
    },
    {
     "name": "stdout",
     "output_type": "stream",
     "text": [
      "\n",
      "-------------EPOCH 1-------------\n",
      "Validation accuracy: 0.9026\tLoss: 0.5005\n"
     ]
    },
    {
     "name": "stderr",
     "output_type": "stream",
     "text": [
      "100%|██████████| 1719/1719 [00:05<00:00, 302.47it/s]\n"
     ]
    },
    {
     "name": "stdout",
     "output_type": "stream",
     "text": [
      "\n",
      "-------------EPOCH 2-------------\n",
      "Validation accuracy: 0.9298\tLoss: 0.2756\n"
     ]
    },
    {
     "name": "stderr",
     "output_type": "stream",
     "text": [
      "100%|██████████| 1719/1719 [00:05<00:00, 296.21it/s]\n"
     ]
    },
    {
     "name": "stdout",
     "output_type": "stream",
     "text": [
      "\n",
      "-------------EPOCH 3-------------\n",
      "Validation accuracy: 0.9456\tLoss: 0.2085\n"
     ]
    },
    {
     "name": "stderr",
     "output_type": "stream",
     "text": [
      "100%|██████████| 1719/1719 [00:05<00:00, 304.07it/s]\n"
     ]
    },
    {
     "name": "stdout",
     "output_type": "stream",
     "text": [
      "\n",
      "-------------EPOCH 4-------------\n",
      "Validation accuracy: 0.9534\tLoss: 0.1673\n"
     ]
    },
    {
     "name": "stderr",
     "output_type": "stream",
     "text": [
      "100%|██████████| 1719/1719 [00:05<00:00, 302.93it/s]\n"
     ]
    },
    {
     "name": "stdout",
     "output_type": "stream",
     "text": [
      "\n",
      "-------------EPOCH 5-------------\n",
      "Validation accuracy: 0.9620\tLoss: 0.1460\n"
     ]
    },
    {
     "name": "stderr",
     "output_type": "stream",
     "text": [
      "100%|██████████| 1719/1719 [00:05<00:00, 303.18it/s]\n"
     ]
    },
    {
     "name": "stdout",
     "output_type": "stream",
     "text": [
      "\n",
      "-------------EPOCH 6-------------\n",
      "Validation accuracy: 0.9678\tLoss: 0.1234\n"
     ]
    },
    {
     "name": "stderr",
     "output_type": "stream",
     "text": [
      "100%|██████████| 1719/1719 [00:05<00:00, 301.96it/s]\n"
     ]
    },
    {
     "name": "stdout",
     "output_type": "stream",
     "text": [
      "\n",
      "-------------EPOCH 7-------------\n",
      "Validation accuracy: 0.9700\tLoss: 0.1108\n"
     ]
    },
    {
     "name": "stderr",
     "output_type": "stream",
     "text": [
      "100%|██████████| 1719/1719 [00:05<00:00, 303.01it/s]\n"
     ]
    },
    {
     "name": "stdout",
     "output_type": "stream",
     "text": [
      "\n",
      "-------------EPOCH 8-------------\n",
      "Validation accuracy: 0.9724\tLoss: 0.0979\n"
     ]
    },
    {
     "name": "stderr",
     "output_type": "stream",
     "text": [
      "100%|██████████| 1719/1719 [00:05<00:00, 301.81it/s]\n"
     ]
    },
    {
     "name": "stdout",
     "output_type": "stream",
     "text": [
      "\n",
      "-------------EPOCH 9-------------\n",
      "Validation accuracy: 0.9722\tLoss: 0.0934\n"
     ]
    },
    {
     "name": "stderr",
     "output_type": "stream",
     "text": [
      "100%|██████████| 1719/1719 [00:05<00:00, 303.00it/s]\n"
     ]
    },
    {
     "name": "stdout",
     "output_type": "stream",
     "text": [
      "\n",
      "-------------EPOCH 10-------------\n",
      "Validation accuracy: 0.9750\tLoss: 0.0880\n"
     ]
    },
    {
     "name": "stderr",
     "output_type": "stream",
     "text": [
      "100%|██████████| 1719/1719 [00:05<00:00, 301.26it/s]\n"
     ]
    },
    {
     "name": "stdout",
     "output_type": "stream",
     "text": [
      "\n",
      "-------------EPOCH 11-------------\n",
      "Validation accuracy: 0.9774\tLoss: 0.0798\n"
     ]
    },
    {
     "name": "stderr",
     "output_type": "stream",
     "text": [
      "100%|██████████| 1719/1719 [00:05<00:00, 301.93it/s]\n"
     ]
    },
    {
     "name": "stdout",
     "output_type": "stream",
     "text": [
      "\n",
      "-------------EPOCH 12-------------\n",
      "Validation accuracy: 0.9792\tLoss: 0.0772\n"
     ]
    },
    {
     "name": "stderr",
     "output_type": "stream",
     "text": [
      "100%|██████████| 1719/1719 [00:05<00:00, 301.82it/s]\n"
     ]
    },
    {
     "name": "stdout",
     "output_type": "stream",
     "text": [
      "\n",
      "-------------EPOCH 13-------------\n",
      "Validation accuracy: 0.9782\tLoss: 0.0739\n"
     ]
    },
    {
     "name": "stderr",
     "output_type": "stream",
     "text": [
      "100%|██████████| 1719/1719 [00:05<00:00, 299.81it/s]\n"
     ]
    },
    {
     "name": "stdout",
     "output_type": "stream",
     "text": [
      "\n",
      "-------------EPOCH 14-------------\n",
      "Validation accuracy: 0.9794\tLoss: 0.0741\n"
     ]
    },
    {
     "name": "stderr",
     "output_type": "stream",
     "text": [
      "100%|██████████| 1719/1719 [00:05<00:00, 302.19it/s]\n"
     ]
    },
    {
     "name": "stdout",
     "output_type": "stream",
     "text": [
      "\n",
      "-------------EPOCH 15-------------\n",
      "Validation accuracy: 0.9800\tLoss: 0.0714\n"
     ]
    },
    {
     "name": "stderr",
     "output_type": "stream",
     "text": [
      "100%|██████████| 1719/1719 [00:05<00:00, 302.94it/s]\n"
     ]
    },
    {
     "name": "stdout",
     "output_type": "stream",
     "text": [
      "\n",
      "-------------EPOCH 16-------------\n",
      "Validation accuracy: 0.9810\tLoss: 0.0646\n"
     ]
    },
    {
     "name": "stderr",
     "output_type": "stream",
     "text": [
      "100%|██████████| 1719/1719 [00:05<00:00, 303.49it/s]\n"
     ]
    },
    {
     "name": "stdout",
     "output_type": "stream",
     "text": [
      "\n",
      "-------------EPOCH 17-------------\n",
      "Validation accuracy: 0.9820\tLoss: 0.0667\n"
     ]
    },
    {
     "name": "stderr",
     "output_type": "stream",
     "text": [
      "100%|██████████| 1719/1719 [00:05<00:00, 301.95it/s]\n"
     ]
    },
    {
     "name": "stdout",
     "output_type": "stream",
     "text": [
      "\n",
      "-------------EPOCH 18-------------\n",
      "Validation accuracy: 0.9810\tLoss: 0.0643\n"
     ]
    },
    {
     "name": "stderr",
     "output_type": "stream",
     "text": [
      "100%|██████████| 1719/1719 [00:05<00:00, 299.70it/s]\n"
     ]
    },
    {
     "name": "stdout",
     "output_type": "stream",
     "text": [
      "\n",
      "-------------EPOCH 19-------------\n",
      "Validation accuracy: 0.9810\tLoss: 0.0625\n"
     ]
    },
    {
     "name": "stderr",
     "output_type": "stream",
     "text": [
      "100%|██████████| 1719/1719 [00:05<00:00, 301.06it/s]\n"
     ]
    },
    {
     "name": "stdout",
     "output_type": "stream",
     "text": [
      "\n",
      "-------------EPOCH 20-------------\n",
      "Validation accuracy: 0.9826\tLoss: 0.0615\n"
     ]
    }
   ],
   "source": [
    "results = list()\n",
    "for e in range(EPOCH):\n",
    "    results.append(evaluate(model, e=e))\n",
    "    train(model)\n",
    "results.append(evaluate(model))"
   ]
  },
  {
   "cell_type": "code",
   "execution_count": 7,
   "metadata": {},
   "outputs": [
    {
     "data": {
      "image/png": "[encoded data removed]",
      "text/plain": [
       "<Figure size 700x500 with 2 Axes>"
      ]
     },
     "metadata": {},
     "output_type": "display_data"
    }
   ],
   "source": [
    "fig, ax1 = plt.subplots(figsize=(7, 5))\n",
    "\n",
    "ax1.plot(range(1, EPOCH + 1), [float(next(iter(r.values()))['acc']) for r in results][1:], label='Accuracy', c='blue')\n",
    "ax1.set_ylabel(\"Accuracy\", c='blue', fontsize=18)\n",
    "ax1.set_xlabel(\"Epoch\", fontsize=18)\n",
    "\n",
    "ax2 = ax1.twinx()\n",
    "ax2.plot(range(1, EPOCH + 1), [float(next(iter(r.values()))['loss']) for r in results][1:], label='Loss', c='green')\n",
    "ax2.set_ylabel(\"Loss\", c='green', fontsize=18)\n",
    "\n",
    "plt.xticks(range(1, EPOCH + 1))\n",
    "fig.legend(loc=(0.5, 0.5), fontsize=18)\n",
    "plt.savefig(\"images/torch1.png\")\n",
    "plt.show()"
   ]
  },
  {
   "cell_type": "markdown",
   "metadata": {},
   "source": [
    "## Question 12"
   ]
  },
  {
   "cell_type": "code",
   "execution_count": 8,
   "metadata": {},
   "outputs": [],
   "source": [
    "(xtrain, xlabel), (xval, yval), _ = load_mnist(final=False, flatten=False)\n",
    "train_loader = DataLoader(MNIST(xtrain.reshape(-1, 1, 28, 28), xlabel), batch_size=32, shuffle=True)\n",
    "xval, yval = torch.tensor(xval).to('cuda').reshape(-1, 1, 28, 28)/255, torch.tensor(yval).to('cuda')"
   ]
  },
  {
   "cell_type": "code",
   "execution_count": 9,
   "metadata": {},
   "outputs": [
    {
     "data": {
      "text/plain": [
       "Sequential(\n",
       "  (0): BatchNorm2d(1, eps=1e-05, momentum=0.1, affine=True, track_running_stats=True)\n",
       "  (1): Conv2d(1, 32, kernel_size=(3, 3), stride=(1, 1), padding=(1, 1))\n",
       "  (2): MaxPool2d(kernel_size=2, stride=2, padding=0, dilation=1, ceil_mode=False)\n",
       "  (3): Conv2d(32, 64, kernel_size=(3, 3), stride=(1, 1), padding=(1, 1))\n",
       "  (4): MaxPool2d(kernel_size=2, stride=2, padding=0, dilation=1, ceil_mode=False)\n",
       "  (5): Conv2d(64, 128, kernel_size=(3, 3), stride=(1, 1), padding=(1, 1))\n",
       "  (6): MaxPool2d(kernel_size=2, stride=2, padding=0, dilation=1, ceil_mode=False)\n",
       "  (7): Flatten(start_dim=1, end_dim=-1)\n",
       "  (8): Linear(in_features=1152, out_features=256, bias=True)\n",
       "  (9): Dropout(p=0.3, inplace=False)\n",
       "  (10): ReLU()\n",
       "  (11): Linear(in_features=256, out_features=64, bias=True)\n",
       "  (12): Dropout(p=0.3, inplace=False)\n",
       "  (13): ReLU()\n",
       "  (14): Linear(in_features=64, out_features=10, bias=True)\n",
       "  (15): Dropout(p=0.3, inplace=False)\n",
       "  (16): LogSoftmax(dim=1)\n",
       ")"
      ]
     },
     "execution_count": 9,
     "metadata": {},
     "output_type": "execute_result"
    }
   ],
   "source": [
    "model = nn.Sequential(\n",
    "    nn.BatchNorm2d(1),\n",
    "    nn.Conv2d(1, 32, 3, padding=1),\n",
    "    nn.MaxPool2d(2),\n",
    "    nn.Conv2d(32, 64, 3, padding=1),\n",
    "    nn.MaxPool2d(2),\n",
    "    nn.Conv2d(64, 128, 3, padding=1),\n",
    "    nn.MaxPool2d(2),\n",
    "    nn.Flatten(),\n",
    "    nn.Linear(1152, 256),\n",
    "    nn.Dropout(p=0.3),\n",
    "    nn.ReLU(),\n",
    "    nn.Linear(256, 64),\n",
    "    nn.Dropout(p=0.3),\n",
    "    nn.ReLU(),\n",
    "    nn.Linear(64, 10),\n",
    "    nn.Dropout(p=0.3),\n",
    "    nn.LogSoftmax(dim=1)\n",
    ").to('cuda')\n",
    "\n",
    "opt = Adam([p for p in model.parameters() if p.requires_grad], lr=1e-4, weight_decay=1e-4)\n",
    "\n",
    "model"
   ]
  },
  {
   "cell_type": "code",
   "execution_count": 10,
   "metadata": {},
   "outputs": [
    {
     "name": "stdout",
     "output_type": "stream",
     "text": [
      "\n",
      "-------------EPOCH 0-------------\n",
      "Validation accuracy: 0.1126\tLoss: 2.3026\n"
     ]
    },
    {
     "name": "stderr",
     "output_type": "stream",
     "text": [
      "100%|██████████| 1719/1719 [00:06<00:00, 270.05it/s]\n"
     ]
    },
    {
     "name": "stdout",
     "output_type": "stream",
     "text": [
      "\n",
      "-------------EPOCH 1-------------\n",
      "Validation accuracy: 0.9792\tLoss: 0.0734\n"
     ]
    },
    {
     "name": "stderr",
     "output_type": "stream",
     "text": [
      "100%|██████████| 1719/1719 [00:05<00:00, 303.06it/s]\n"
     ]
    },
    {
     "name": "stdout",
     "output_type": "stream",
     "text": [
      "\n",
      "-------------EPOCH 2-------------\n",
      "Validation accuracy: 0.9820\tLoss: 0.0567\n"
     ]
    },
    {
     "name": "stderr",
     "output_type": "stream",
     "text": [
      "100%|██████████| 1719/1719 [00:06<00:00, 270.03it/s]\n"
     ]
    },
    {
     "name": "stdout",
     "output_type": "stream",
     "text": [
      "\n",
      "-------------EPOCH 3-------------\n",
      "Validation accuracy: 0.9858\tLoss: 0.0489\n"
     ]
    },
    {
     "name": "stderr",
     "output_type": "stream",
     "text": [
      "100%|██████████| 1719/1719 [00:05<00:00, 290.00it/s]\n"
     ]
    },
    {
     "name": "stdout",
     "output_type": "stream",
     "text": [
      "\n",
      "-------------EPOCH 4-------------\n",
      "Validation accuracy: 0.9888\tLoss: 0.0378\n"
     ]
    },
    {
     "name": "stderr",
     "output_type": "stream",
     "text": [
      "100%|██████████| 1719/1719 [00:06<00:00, 263.48it/s]\n"
     ]
    },
    {
     "name": "stdout",
     "output_type": "stream",
     "text": [
      "\n",
      "-------------EPOCH 5-------------\n",
      "Validation accuracy: 0.9892\tLoss: 0.0401\n"
     ]
    },
    {
     "name": "stderr",
     "output_type": "stream",
     "text": [
      "100%|██████████| 1719/1719 [00:06<00:00, 268.92it/s]\n"
     ]
    },
    {
     "name": "stdout",
     "output_type": "stream",
     "text": [
      "\n",
      "-------------EPOCH 6-------------\n",
      "Validation accuracy: 0.9912\tLoss: 0.0360\n"
     ]
    },
    {
     "name": "stderr",
     "output_type": "stream",
     "text": [
      "100%|██████████| 1719/1719 [00:06<00:00, 251.93it/s]\n"
     ]
    },
    {
     "name": "stdout",
     "output_type": "stream",
     "text": [
      "\n",
      "-------------EPOCH 7-------------\n",
      "Validation accuracy: 0.9916\tLoss: 0.0347\n"
     ]
    },
    {
     "name": "stderr",
     "output_type": "stream",
     "text": [
      "100%|██████████| 1719/1719 [00:06<00:00, 253.49it/s]\n"
     ]
    },
    {
     "name": "stdout",
     "output_type": "stream",
     "text": [
      "\n",
      "-------------EPOCH 8-------------\n",
      "Validation accuracy: 0.9910\tLoss: 0.0341\n"
     ]
    },
    {
     "name": "stderr",
     "output_type": "stream",
     "text": [
      "100%|██████████| 1719/1719 [00:06<00:00, 259.35it/s]\n"
     ]
    },
    {
     "name": "stdout",
     "output_type": "stream",
     "text": [
      "\n",
      "-------------EPOCH 9-------------\n",
      "Validation accuracy: 0.9920\tLoss: 0.0301\n"
     ]
    },
    {
     "name": "stderr",
     "output_type": "stream",
     "text": [
      "100%|██████████| 1719/1719 [00:06<00:00, 271.87it/s]\n"
     ]
    },
    {
     "name": "stdout",
     "output_type": "stream",
     "text": [
      "\n",
      "-------------EPOCH 10-------------\n",
      "Validation accuracy: 0.9928\tLoss: 0.0360\n"
     ]
    },
    {
     "name": "stderr",
     "output_type": "stream",
     "text": [
      "100%|██████████| 1719/1719 [00:06<00:00, 266.34it/s]\n"
     ]
    },
    {
     "name": "stdout",
     "output_type": "stream",
     "text": [
      "\n",
      "-------------EPOCH 11-------------\n",
      "Validation accuracy: 0.9910\tLoss: 0.0396\n"
     ]
    },
    {
     "name": "stderr",
     "output_type": "stream",
     "text": [
      "100%|██████████| 1719/1719 [00:06<00:00, 262.19it/s]\n"
     ]
    },
    {
     "name": "stdout",
     "output_type": "stream",
     "text": [
      "\n",
      "-------------EPOCH 12-------------\n",
      "Validation accuracy: 0.9924\tLoss: 0.0382\n"
     ]
    },
    {
     "name": "stderr",
     "output_type": "stream",
     "text": [
      "100%|██████████| 1719/1719 [00:06<00:00, 256.91it/s]\n"
     ]
    },
    {
     "name": "stdout",
     "output_type": "stream",
     "text": [
      "\n",
      "-------------EPOCH 13-------------\n",
      "Validation accuracy: 0.9922\tLoss: 0.0411\n"
     ]
    },
    {
     "name": "stderr",
     "output_type": "stream",
     "text": [
      "100%|██████████| 1719/1719 [00:06<00:00, 264.44it/s]\n"
     ]
    },
    {
     "name": "stdout",
     "output_type": "stream",
     "text": [
      "\n",
      "-------------EPOCH 14-------------\n",
      "Validation accuracy: 0.9934\tLoss: 0.0333\n"
     ]
    },
    {
     "name": "stderr",
     "output_type": "stream",
     "text": [
      "100%|██████████| 1719/1719 [00:06<00:00, 272.65it/s]\n"
     ]
    },
    {
     "name": "stdout",
     "output_type": "stream",
     "text": [
      "\n",
      "-------------EPOCH 15-------------\n",
      "Validation accuracy: 0.9922\tLoss: 0.0365\n"
     ]
    },
    {
     "name": "stderr",
     "output_type": "stream",
     "text": [
      "100%|██████████| 1719/1719 [00:06<00:00, 255.39it/s]\n"
     ]
    },
    {
     "name": "stdout",
     "output_type": "stream",
     "text": [
      "\n",
      "-------------EPOCH 16-------------\n",
      "Validation accuracy: 0.9928\tLoss: 0.0352\n"
     ]
    },
    {
     "name": "stderr",
     "output_type": "stream",
     "text": [
      "100%|██████████| 1719/1719 [00:06<00:00, 246.91it/s]\n"
     ]
    },
    {
     "name": "stdout",
     "output_type": "stream",
     "text": [
      "\n",
      "-------------EPOCH 17-------------\n",
      "Validation accuracy: 0.9926\tLoss: 0.0335\n"
     ]
    },
    {
     "name": "stderr",
     "output_type": "stream",
     "text": [
      "100%|██████████| 1719/1719 [00:06<00:00, 261.62it/s]\n"
     ]
    },
    {
     "name": "stdout",
     "output_type": "stream",
     "text": [
      "\n",
      "-------------EPOCH 18-------------\n",
      "Validation accuracy: 0.9932\tLoss: 0.0353\n"
     ]
    },
    {
     "name": "stderr",
     "output_type": "stream",
     "text": [
      "100%|██████████| 1719/1719 [00:06<00:00, 248.76it/s]\n"
     ]
    },
    {
     "name": "stdout",
     "output_type": "stream",
     "text": [
      "\n",
      "-------------EPOCH 19-------------\n",
      "Validation accuracy: 0.9934\tLoss: 0.0333\n"
     ]
    },
    {
     "name": "stderr",
     "output_type": "stream",
     "text": [
      "100%|██████████| 1719/1719 [00:06<00:00, 265.35it/s]\n"
     ]
    },
    {
     "name": "stdout",
     "output_type": "stream",
     "text": [
      "\n",
      "-------------EPOCH 20-------------\n",
      "Validation accuracy: 0.9936\tLoss: 0.0340\n"
     ]
    }
   ],
   "source": [
    "results = list()\n",
    "for e in range(EPOCH):\n",
    "    results.append(evaluate(model, e=e))\n",
    "    train(model)\n",
    "results.append(evaluate(model))"
   ]
  },
  {
   "cell_type": "code",
   "execution_count": 11,
   "metadata": {},
   "outputs": [
    {
     "data": {
      "image/png": "[encoded data removed]",
      "text/plain": [
       "<Figure size 700x500 with 2 Axes>"
      ]
     },
     "metadata": {},
     "output_type": "display_data"
    }
   ],
   "source": [
    "fig, ax1 = plt.subplots(figsize=(7, 5))\n",
    "\n",
    "ax1.plot(range(1, EPOCH + 1), [float(next(iter(r.values()))['acc']) for r in results][1:], label='Accuracy', c='blue')\n",
    "ax1.set_ylabel(\"Accuracy\", c='blue', fontsize=18)\n",
    "ax1.set_xlabel(\"Epoch\", fontsize=18)\n",
    "\n",
    "ax2 = ax1.twinx()\n",
    "ax2.plot(range(1, EPOCH + 1), [float(next(iter(r.values()))['loss']) for r in results][1:], label='Loss', c='green')\n",
    "ax2.set_ylabel(\"Loss\", c='green', fontsize=18)\n",
    "\n",
    "plt.xticks(range(1, EPOCH + 1))\n",
    "fig.legend(loc=(0.5, 0.5), fontsize=18)\n",
    "plt.savefig(\"images/torch2.png\")\n",
    "plt.show()"
   ]
  }
 ],
 "metadata": {
  "kernelspec": {
   "display_name": "Python 3",
   "language": "python",
   "name": "python3"
  },
  "language_info": {
   "codemirror_mode": {
    "name": "ipython",
    "version": 3
   },
   "file_extension": ".py",
   "mimetype": "text/x-python",
   "name": "python",
   "nbconvert_exporter": "python",
   "pygments_lexer": "ipython3",
   "version": "3.11.3"
  }
 },
 "nbformat": 4,
 "nbformat_minor": 2
}

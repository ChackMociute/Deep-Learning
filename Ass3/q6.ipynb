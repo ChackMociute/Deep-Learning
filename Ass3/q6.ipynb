{
 "cells": [
  {
   "cell_type": "code",
   "execution_count": 1,
   "metadata": {},
   "outputs": [],
   "source": [
    "import torch\n",
    "import torch.nn as nn\n",
    "import numpy as np\n",
    "from data_rnn import load_ndfa, load_brackets\n",
    "from utils import device"
   ]
  },
  {
   "cell_type": "code",
   "execution_count": 2,
   "metadata": {},
   "outputs": [],
   "source": [
    "x_train, (i2w, w2i) = load_ndfa(n=150_000)"
   ]
  },
  {
   "cell_type": "code",
   "execution_count": 37,
   "metadata": {},
   "outputs": [],
   "source": [
    "class DataLoader():\n",
    "    def __init__(self, x, maxsize=10000):\n",
    "        self.x = [[w2i['.start']] + i + [w2i['.end']] for i in x]\n",
    "        self.c = 0\n",
    "        self.maxsize = max(maxsize, len(max(self.x, key=lambda x: len(x))) + 1)\n",
    "    \n",
    "    def shuffle(self):\n",
    "        self.c = 0\n",
    "        self.x = [self.x[i] for i in np.random.permutation(range(len(self.x)))]\n",
    "    \n",
    "    def get(self):\n",
    "        temp = []\n",
    "        while len(temp) < self.maxsize:\n",
    "            if self.c >= len(self.x) or len(temp) + len(self.x[self.c]) + 1 > self.maxsize:\n",
    "                temp.extend([w2i['.pad']] * (self.maxsize - len(temp)))\n",
    "            else:\n",
    "                temp.extend(self.x[self.c] + [w2i['.pad']])\n",
    "                self.c += 1\n",
    "        return torch.tensor(temp, dtype=torch.long)\n",
    "    \n",
    "    def dataloader(self, bs):\n",
    "        while self.c < len(self.x):\n",
    "            x = torch.concat([self.get().view(1, -1) for _ in range(bs)]).to(device)\n",
    "            x = x[x.count_nonzero(dim=1) > 1]\n",
    "            y = torch.zeros_like(x)\n",
    "            y[:, :-1] = x[:, 1:]\n",
    "            yield x, y"
   ]
  },
  {
   "cell_type": "code",
   "execution_count": 40,
   "metadata": {},
   "outputs": [],
   "source": [
    "class Network(nn.Module):\n",
    "    def __init__(self, *args, **kwargs):\n",
    "        super().__init__(*args, **kwargs)\n",
    "        self.emb = nn.Embedding(len(i2w), 32)\n",
    "        self.lstm = nn.LSTM(32, 16, batch_first=True)\n",
    "        self.linear = nn.Linear(16, len(w2i))\n",
    "    \n",
    "    def forward(self, x):\n",
    "        x = self.emb(x)\n",
    "        x, _ = self.lstm(x)\n",
    "        x = self.linear(x)\n",
    "        return x"
   ]
  },
  {
   "cell_type": "code",
   "execution_count": 41,
   "metadata": {},
   "outputs": [],
   "source": [
    "model = Network().to(device)\n",
    "dl = DataLoader(x_train)"
   ]
  },
  {
   "cell_type": "code",
   "execution_count": 42,
   "metadata": {},
   "outputs": [
    {
     "data": {
      "text/plain": [
       "torch.Size([32, 10000, 15])"
      ]
     },
     "execution_count": 42,
     "metadata": {},
     "output_type": "execute_result"
    }
   ],
   "source": [
    "model(next(iter(dl.dataloader(32)))[0]).shape"
   ]
  },
  {
   "cell_type": "code",
   "execution_count": 1,
   "metadata": {},
   "outputs": [
    {
     "ename": "NameError",
     "evalue": "name 'load_brackets' is not defined",
     "output_type": "error",
     "traceback": [
      "\u001b[1;31m---------------------------------------------------------------------------\u001b[0m",
      "\u001b[1;31mNameError\u001b[0m                                 Traceback (most recent call last)",
      "\u001b[1;32mc:\\Users\\Hackerman\\Desktop\\1.2 Deep Learning\\Ass3\\q6.ipynb Cell 7\u001b[0m line \u001b[0;36m1\n\u001b[1;32m----> <a href='vscode-notebook-cell:/c%3A/Users/Hackerman/Desktop/1.2%20Deep%20Learning/Ass3/q6.ipynb#W6sZmlsZQ%3D%3D?line=0'>1</a>\u001b[0m x_train, (i2w, w2i) \u001b[39m=\u001b[39m load_brackets(n\u001b[39m=\u001b[39m\u001b[39m150_000\u001b[39m)\n",
      "\u001b[1;31mNameError\u001b[0m: name 'load_brackets' is not defined"
     ]
    }
   ],
   "source": [
    "x_train, (i2w, w2i) = load_brackets(n=150_000)"
   ]
  }
 ],
 "metadata": {
  "kernelspec": {
   "display_name": "Python 3",
   "language": "python",
   "name": "python3"
  },
  "language_info": {
   "codemirror_mode": {
    "name": "ipython",
    "version": 3
   },
   "file_extension": ".py",
   "mimetype": "text/x-python",
   "name": "python",
   "nbconvert_exporter": "python",
   "pygments_lexer": "ipython3",
   "version": "3.10.9"
  }
 },
 "nbformat": 4,
 "nbformat_minor": 2
}
